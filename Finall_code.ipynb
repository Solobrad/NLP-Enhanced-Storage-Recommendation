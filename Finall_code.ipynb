{
 "cells": [
  {
   "cell_type": "code",
   "execution_count": 17,
   "metadata": {},
   "outputs": [
    {
     "ename": "AttributeError",
     "evalue": "Can't get attribute 'preprocess' on <module '__main__'>",
     "output_type": "error",
     "traceback": [
      "\u001b[1;31m---------------------------------------------------------------------------\u001b[0m",
      "\u001b[1;31mAttributeError\u001b[0m                            Traceback (most recent call last)",
      "Cell \u001b[1;32mIn[17], line 9\u001b[0m\n\u001b[0;32m      7\u001b[0m \u001b[38;5;66;03m# Load the sentiment analysis model and vectorizer\u001b[39;00m\n\u001b[0;32m      8\u001b[0m sentiment_model \u001b[38;5;241m=\u001b[39m pickle\u001b[38;5;241m.\u001b[39mload(\u001b[38;5;28mopen\u001b[39m(\u001b[38;5;124m\"\u001b[39m\u001b[38;5;124mSentiment Analzer/SVM_tfidf_model.sav\u001b[39m\u001b[38;5;124m\"\u001b[39m, \u001b[38;5;124m'\u001b[39m\u001b[38;5;124mrb\u001b[39m\u001b[38;5;124m'\u001b[39m))\n\u001b[1;32m----> 9\u001b[0m vectorizer \u001b[38;5;241m=\u001b[39m \u001b[43mpickle\u001b[49m\u001b[38;5;241;43m.\u001b[39;49m\u001b[43mload\u001b[49m\u001b[43m(\u001b[49m\u001b[38;5;28;43mopen\u001b[39;49m\u001b[43m(\u001b[49m\u001b[38;5;124;43m\"\u001b[39;49m\u001b[38;5;124;43mSentiment Analzer/tfidf_vectorizer.sav\u001b[39;49m\u001b[38;5;124;43m\"\u001b[39;49m\u001b[43m,\u001b[49m\u001b[43m \u001b[49m\u001b[38;5;124;43m'\u001b[39;49m\u001b[38;5;124;43mrb\u001b[39;49m\u001b[38;5;124;43m'\u001b[39;49m\u001b[43m)\u001b[49m\u001b[43m)\u001b[49m\n\u001b[0;32m     11\u001b[0m \u001b[38;5;66;03m# Ensure 'Clean' column is in the correct format\u001b[39;00m\n\u001b[0;32m     12\u001b[0m \u001b[38;5;28;01mif\u001b[39;00m \u001b[38;5;28misinstance\u001b[39m(labeled_data[\u001b[38;5;124m'\u001b[39m\u001b[38;5;124mClean\u001b[39m\u001b[38;5;124m'\u001b[39m]\u001b[38;5;241m.\u001b[39miloc[\u001b[38;5;241m0\u001b[39m], \u001b[38;5;28mlist\u001b[39m):\n",
      "\u001b[1;31mAttributeError\u001b[0m: Can't get attribute 'preprocess' on <module '__main__'>"
     ]
    }
   ],
   "source": [
    "import pandas as pd\n",
    "import pickle\n",
    "\n",
    "# Load the labeled data with topic relevance scores\n",
    "labeled_data = pd.read_excel(\"Review task/labelled_aspect_May24.xlsx\")\n",
    "\n",
    "# Load the sentiment analysis model and vectorizer\n",
    "sentiment_model = pickle.load(open(\"Sentiment Analzer/SVM_tfidf_model.sav\", 'rb'))\n",
    "vectorizer = pickle.load(open(\"Sentiment Analzer/tfidf_vectorizer.sav\", 'rb'))\n",
    "\n",
    "# Ensure 'Clean' column is in the correct format\n",
    "if isinstance(labeled_data['Clean'].iloc[0], list):\n",
    "    labeled_data['Clean'] = labeled_data['Clean'].apply(lambda x: ' '.join(x))\n",
    "\n",
    "# Transform the text using the loaded vectorizer\n",
    "X_transformed = vectorizer.transform(labeled_data['Clean'])\n",
    "\n",
    "# Predict sentiment of each preprocessed review using the sentiment analysis model\n",
    "sentiment_scores = sentiment_model.predict(X_transformed)\n",
    "\n",
    "# Combine sentiment scores with the labeled data\n",
    "labeled_data['Sentiment'] = sentiment_scores\n",
    "\n",
    "# Rank and list top 5 products with highest total positive sentiment value for each aspect\n",
    "for i in range(10):  # Assuming 10 aspects/topics\n",
    "    top_products = labeled_data[labeled_data[f'Topic_{i}'] == 1].sort_values(by='Sentiment', ascending=False).head(5)\n",
    "    print(f\"Top 5 Products for Aspect/Topic {i}:\")\n",
    "    print(top_products[['product', 'review', 'Sentiment']])\n",
    "    print(\"\\n\")\n"
   ]
  },
  {
   "cell_type": "code",
   "execution_count": null,
   "metadata": {},
   "outputs": [],
   "source": []
  },
  {
   "cell_type": "code",
   "execution_count": null,
   "metadata": {},
   "outputs": [],
   "source": []
  }
 ],
 "metadata": {
  "kernelspec": {
   "display_name": "Python 3",
   "language": "python",
   "name": "python3"
  },
  "language_info": {
   "codemirror_mode": {
    "name": "ipython",
    "version": 3
   },
   "file_extension": ".py",
   "mimetype": "text/x-python",
   "name": "python",
   "nbconvert_exporter": "python",
   "pygments_lexer": "ipython3",
   "version": "3.10.4"
  }
 },
 "nbformat": 4,
 "nbformat_minor": 2
}
