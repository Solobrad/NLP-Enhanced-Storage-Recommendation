{
 "cells": [
  {
   "cell_type": "code",
   "execution_count": 1,
   "id": "9416e04c",
   "metadata": {},
   "outputs": [
    {
     "name": "stdout",
     "output_type": "stream",
     "text": [
      "WARNING: Anchor word not in word column labels provided to CorEx: well\n",
      "WARNING: Anchor word not in word column labels provided to CorEx: last\n",
      "WARNING: Anchor word not in word column labels provided to CorEx: less\n",
      "WARNING: Anchor word not in word column labels provided to CorEx: find\n",
      "WARNING: Anchor word not in word column labels provided to CorEx: show\n",
      "WARNING: Anchor word not in word column labels provided to CorEx: give\n",
      "WARNING: Anchor word not in word column labels provided to CorEx: much\n",
      "WARNING: Anchor word not in word column labels provided to CorEx: system\n",
      "WARNING: Anchor word not in word column labels provided to CorEx: system\n",
      "WARNING: Anchor word not in word column labels provided to CorEx: well\n",
      "WARNING: Anchor word not in word column labels provided to CorEx: several\n",
      "WARNING: Anchor word not in word column labels provided to CorEx: please\n"
     ]
    }
   ],
   "source": [
    "#Training semi-supervised Anchored COREX model\n",
    "import numpy as np\n",
    "import scipy.sparse as ss\n",
    "import pickle\n",
    "from corextopic import corextopic as ct\n",
    "from sklearn.feature_extraction.text import CountVectorizer\n",
    "import pandas as pd\n",
    "from ast import literal_eval\n",
    "\n",
    "data_anchored_corex = pd.read_excel(\"preprocessed_data.xlsx\")\n",
    "train_topics = pd.read_excel(\"Training_topics.xlsx\")\n",
    "df_anchored_corex = pd.DataFrame()\n",
    "\n",
    "\n",
    "# Drop rows with NaN values in 'Keys' column\n",
    "train_topics = train_topics.dropna(subset=['Keys'])\n",
    "\n",
    "data_words_anchored_corex = []\n",
    "for x in data_anchored_corex['Clean']:\n",
    "    data_words_anchored_corex.append(' '.join(literal_eval(x)))\n",
    "keywords = []\n",
    "for x in train_topics['Keys']:\n",
    "    keywords.append([word.strip() for word in literal_eval(x)])  # Remove leading/trailing spaces\n",
    "\n",
    "vectorizer_anchored_corex = CountVectorizer(stop_words='english', max_features=20000, binary=True)\n",
    "\n",
    "doc_word_anchored_corex = vectorizer_anchored_corex.fit_transform(data_words_anchored_corex)\n",
    "doc_word_anchored_corex = ss.csr_matrix(doc_word_anchored_corex)\n",
    "\n",
    "words = list(vectorizer_anchored_corex.vocabulary_.keys())  # Accessing feature names directly from vocabulary\n",
    "\n",
    "#Train the CorEx topic model with 6 topics\n",
    "topic_model_anchored_corex = ct.Corex(n_hidden=10, words=words, max_iter=1000, verbose=False, seed=2022)\n",
    "topic_model_anchored_corex.fit(doc_word_anchored_corex, words=words, anchors = keywords, anchor_strength=3)\n",
    "\n",
    "#Save the model and topics\n",
    "pickle.dump(topic_model_anchored_corex, open('Anchored_CorEx_Train_model_May24.sav', 'wb'))\n",
    "topic_list_anchored_corex = topic_model_anchored_corex.get_topics()\n",
    "\n",
    "df_anchored_corex['Topics'] = topic_list_anchored_corex\n",
    "df_anchored_corex.to_excel('Anchored_CorEx_topics_final_May24.xlsx')"
   ]
  },
  {
   "cell_type": "code",
   "execution_count": 16,
   "id": "3fd1fbb9",
   "metadata": {},
   "outputs": [
    {
     "name": "stdout",
     "output_type": "stream",
     "text": [
      "WARNING: Anchor word not in word column labels provided to CorEx: well\n",
      "WARNING: Anchor word not in word column labels provided to CorEx: last\n",
      "WARNING: Anchor word not in word column labels provided to CorEx: less\n",
      "WARNING: Anchor word not in word column labels provided to CorEx: find\n",
      "WARNING: Anchor word not in word column labels provided to CorEx: show\n",
      "WARNING: Anchor word not in word column labels provided to CorEx: give\n",
      "WARNING: Anchor word not in word column labels provided to CorEx: much\n",
      "WARNING: Anchor word not in word column labels provided to CorEx: system\n",
      "WARNING: Anchor word not in word column labels provided to CorEx: system\n",
      "WARNING: Anchor word not in word column labels provided to CorEx: well\n",
      "WARNING: Anchor word not in word column labels provided to CorEx: several\n",
      "WARNING: Anchor word not in word column labels provided to CorEx: please\n",
      "Missing anchor words: ['well', 'last', 'less', 'find', 'show', 'give', 'much', 'system', 'system', 'well', 'several', 'please']\n"
     ]
    }
   ],
   "source": [
    "# Sample code to adjust anchor words based on vocabulary\n",
    "missing_anchors = []\n",
    "for anchor_set in keywords:\n",
    "    for word in anchor_set:\n",
    "        if word not in words:\n",
    "            missing_anchors.append(word)\n",
    "            print(f\"WARNING: Anchor word not in word column labels provided to CorEx: {word}\")\n",
    "\n",
    "# Print missing anchors\n",
    "print(\"Missing anchor words:\", missing_anchors)\n",
    "\n",
    "# Optionally, remove missing anchor words from keywords (if necessary)\n",
    "keywords = [[word for word in anchor_set if word in words] for anchor_set in keywords]\n"
   ]
  },
  {
   "cell_type": "code",
   "execution_count": 17,
   "id": "f5e5bdeb",
   "metadata": {},
   "outputs": [
    {
     "name": "stdout",
     "output_type": "stream",
     "text": [
      "0: storage, technology, fast, postit, ssd, retail, default, tb, misuse, installing\n",
      "1: increase, emojis, novice, slowness, cellular, force, issue, pocket, speedy, annoying\n",
      "2: install, fun, blaze, great, upgrade, use, outer, basically, fake, run\n",
      "3: itune, tablet, browser, throttle, confident, lose, superior, research, bias, dell\n",
      "4: connect, store, external, policy, properly, pc, old, launch, cellphone, slow\n",
      "5: install, rf, differ, negate, subscribing, complicated, camera, run, galaxy, apply\n",
      "6: heat, pack, seriously, moment, low, sshd, sandisc, league, amazon, handy\n",
      "7: legit, raspberry, usuable, opportunity, compact, fullsize, pleasantly, consider, bit, issue\n",
      "8: ethernet, hype, everytime, nonexistent, use, discontinue, short, eye, volume, outstanding\n",
      "9: glad, regular, mileage, activation, happy, beginning, love, personal, array, satisfied\n"
     ]
    }
   ],
   "source": [
    "# Print all topics from the CorEx topic model\n",
    "anchored_corex_topics = topic_model_anchored_corex.get_topics()\n",
    "for n,topic in enumerate(anchored_corex_topics):\n",
    "    topic_words,_,_ = zip(*topic)\n",
    "    print('{}: '.format(n) + ', '.join(topic_words))"
   ]
  },
  {
   "cell_type": "code",
   "execution_count": 2,
   "id": "7cd80dfb",
   "metadata": {},
   "outputs": [],
   "source": [
    "#label the review with topics\n",
    "import pandas as pd\n",
    "import pickle\n",
    "from ast import literal_eval\n",
    "\n",
    "data = pd.read_excel(\"preprocessed_data.xlsx\")\n",
    "aspect_list = [[],[],[],[],[],[],[],[],[],[]]\n",
    "words_set = []\n",
    "for x in data['Clean']:\n",
    "    words_set.append(set(literal_eval(x)))\n",
    "\n",
    "model = pickle.load(open(\"Anchored_CorEx_Train_model_May24.sav\", 'rb'))\n",
    "topic_list = []\n",
    "for i, topic_words in enumerate(model.get_topics()):\n",
    "  topic_list.append(set([words[0] for words in topic_words if words[1] > 0]))\n",
    "\n",
    "for words in words_set:\n",
    "  for i,topic_words in enumerate(topic_list):\n",
    "      if (words & topic_words):\n",
    "        aspect_list[i].append(1)\n",
    "      else :\n",
    "        aspect_list[i].append(0)\n",
    "for i in range(10):\n",
    "  data['Topic ' + str(i)] = aspect_list[i]\n",
    "data.to_excel('labelled_aspect_May24.xlsx')"
   ]
  },
  {
   "cell_type": "code",
   "execution_count": null,
   "id": "233382d7",
   "metadata": {},
   "outputs": [],
   "source": []
  },
  {
   "cell_type": "code",
   "execution_count": null,
   "id": "77876919",
   "metadata": {},
   "outputs": [],
   "source": []
  },
  {
   "cell_type": "code",
   "execution_count": null,
   "id": "8c47715a",
   "metadata": {},
   "outputs": [],
   "source": []
  }
 ],
 "metadata": {
  "kernelspec": {
   "display_name": "Python 3 (ipykernel)",
   "language": "python",
   "name": "python3"
  },
  "language_info": {
   "codemirror_mode": {
    "name": "ipython",
    "version": 3
   },
   "file_extension": ".py",
   "mimetype": "text/x-python",
   "name": "python",
   "nbconvert_exporter": "python",
   "pygments_lexer": "ipython3",
   "version": "3.10.4"
  }
 },
 "nbformat": 4,
 "nbformat_minor": 5
}
